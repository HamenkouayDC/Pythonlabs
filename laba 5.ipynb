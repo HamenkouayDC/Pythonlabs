{
 "cells": [
  {
   "cell_type": "markdown",
   "id": "db4b50f0",
   "metadata": {
    "id": "db4b50f0"
   },
   "source": [
    "# Лабораторная работа №5\n",
    "## Выполнил студент группы ФИО ГРУППА"
   ]
  },
  {
   "cell_type": "markdown",
   "id": "annual-symbol",
   "metadata": {
    "id": "annual-symbol"
   },
   "source": [
    "### Оглавление\n",
    "1. [Задание 1](#Задание-№1)\n",
    "2. [Задание 2](#Задание-№2)\n",
    "4. [Вывод](#Вывод)"
   ]
  },
  {
   "cell_type": "markdown",
   "id": "independent-spirit",
   "metadata": {
    "id": "independent-spirit"
   },
   "source": [
    "> Дополнительные модули, использованные при выполнение лабораторной"
   ]
  },
  {
   "cell_type": "code",
   "execution_count": null,
   "id": "4839be2b",
   "metadata": {
    "id": "4839be2b"
   },
   "outputs": [],
   "source": [
    "# Необходим при замере скорости выполнения кода\n",
    "from datetime import datetime as t\n",
    "# Нужен для создания словаря в алг. Бойера-Мура\n",
    "from collections import defaultdict"
   ]
  },
  {
   "cell_type": "markdown",
   "id": "inclusive-motorcycle",
   "metadata": {
    "id": "inclusive-motorcycle"
   },
   "source": [
    "### Задание №1\n",
    "Реализовать методы поиска подстроки в строке. Добавить возможность ввода строки и подстроки с клавиатуры. Предусмотреть возможность существования пробела. Реализовать возможность выбора опции чувствительности или нечувствительности к регистру. Оценить время работы каждого алгоритма поиска и сравнить его со временем работы стандартной функции поиска, используемой в выбранном языке программирования."
   ]
  },
  {
   "cell_type": "markdown",
   "id": "interracial-communication",
   "metadata": {
    "id": "interracial-communication"
   },
   "source": [
    "#### Алгоритм Кнута-Морриса-Пратта"
   ]
  },
  {
   "cell_type": "code",
   "execution_count": 3,
   "id": "presidential-level",
   "metadata": {
    "id": "presidential-level"
   },
   "outputs": [
    {
     "name": "stdout",
     "output_type": "stream",
     "text": [
      "Результат KMP: [3], Время: 0:00:00\n"
     ]
    }
   ],
   "source": [
    "from datetime import datetime as t\n",
    "\n",
    "# Алгоритм Кнута-Морриса-Пратта\n",
    "def kmp_search(text, pattern, case_sensitive=True):\n",
    "    if not case_sensitive:\n",
    "        text = text.lower()\n",
    "        pattern = pattern.lower()\n",
    "\n",
    "    n, m = len(text), len(pattern)\n",
    "    \n",
    "    # Префикс-функция для поиска\n",
    "    pi = [0] * m\n",
    "    j = 0\n",
    "    for i in range(1, m):\n",
    "        while j > 0 and pattern[i] != pattern[j]:\n",
    "            j = pi[j - 1]\n",
    "        if pattern[i] == pattern[j]:\n",
    "            j += 1\n",
    "        pi[i] = j\n",
    "\n",
    "    # Поиск подстроки в строке\n",
    "    j = 0\n",
    "    result = []\n",
    "    for i in range(n):\n",
    "        while j > 0 and text[i] != pattern[j]:\n",
    "            j = pi[j - 1]\n",
    "        if text[i] == pattern[j]:\n",
    "            j += 1\n",
    "        if j == m:\n",
    "            result.append(i - m + 1)\n",
    "            j = pi[j - 1]\n",
    "    return result\n",
    "\n",
    "# Пример использования\n",
    "text = input(\"Введите строку: \")\n",
    "pattern = input(\"Введите подстроку: \")\n",
    "sensitivity = input(\"Чувствительность к регистру (y/n): \").strip().lower() == 'y'\n",
    "\n",
    "start_time = t.now()\n",
    "kmp_result = kmp_search(text, pattern, sensitivity)\n",
    "kmp_time = t.now() - start_time\n",
    "\n",
    "print(f\"Результат KMP: {kmp_result}, Время: {kmp_time}\")\n"
   ]
  },
  {
   "cell_type": "markdown",
   "id": "downtown-option",
   "metadata": {
    "id": "downtown-option"
   },
   "source": [
    "#### Упрощенный алгоритм Бойера-Мура"
   ]
  },
  {
   "cell_type": "code",
   "execution_count": 4,
   "id": "respective-reggae",
   "metadata": {
    "id": "respective-reggae"
   },
   "outputs": [
    {
     "name": "stdout",
     "output_type": "stream",
     "text": [
      "Результат Boyer-Moore: [16], Время: 0:00:00\n"
     ]
    }
   ],
   "source": [
    "from datetime import datetime as t\n",
    "from collections import defaultdict\n",
    "\n",
    "# Упрощенный алгоритм Бойера-Мура\n",
    "def boyer_moore_search(text, pattern, case_sensitive=True):\n",
    "    if not case_sensitive:\n",
    "        text = text.lower()\n",
    "        pattern = pattern.lower()\n",
    "\n",
    "    n, m = len(text), len(pattern)\n",
    "    bad_char = defaultdict(lambda: -1)\n",
    "\n",
    "    # Строим таблицу сдвигов для символов\n",
    "    for i in range(m):\n",
    "        bad_char[pattern[i]] = i\n",
    "\n",
    "    result = []\n",
    "    s = 0\n",
    "    while s <= n - m:\n",
    "        j = m - 1\n",
    "        while j >= 0 and pattern[j] == text[s + j]:\n",
    "            j -= 1\n",
    "        if j < 0:\n",
    "            result.append(s)\n",
    "            s += (m - bad_char[text[s + m]] if s + m < n else 1)\n",
    "        else:\n",
    "            s += max(1, j - bad_char[text[s + j]])\n",
    "\n",
    "    return result\n",
    "\n",
    "# Пример использования\n",
    "text = input(\"Введите строку: \")\n",
    "pattern = input(\"Введите подстроку: \")\n",
    "sensitivity = input(\"Чувствительность к регистру (y/n): \").strip().lower() == 'y'\n",
    "\n",
    "start_time = t.now()\n",
    "boyer_moore_result = boyer_moore_search(text, pattern, sensitivity)\n",
    "boyer_moore_time = t.now() - start_time\n",
    "\n",
    "print(f\"Результат Boyer-Moore: {boyer_moore_result}, Время: {boyer_moore_time}\")\n"
   ]
  },
  {
   "cell_type": "markdown",
   "id": "hybrid-memorial",
   "metadata": {
    "id": "hybrid-memorial"
   },
   "source": [
    "### Задание №2\n",
    "Написать программу, определяющую, является ли данное\n",
    "расположение «решаемым», то есть можно ли из него за конечное число\n",
    "шагов перейти к правильному. Если это возможно, то необходимо найти хотя\n",
    "бы одно решение - последовательность движений, после которой числа будут\n",
    "расположены в правильном порядке.\n",
    "#### Входные данные: массив чисел, представляющий собой расстановку в\n",
    "Порядке «слева направо, сверху вниз». Число 0 обозначает пустое поле.\n",
    "Например, массив [1, 2, 3, 4, 5, 6, 7, 8, 9, 10, 11, 12, 13, 14, 15, 0] представляет\n",
    "собой «решенную» позицию элементов.\n",
    "#### Выходные данные: если решения нет, то функция должна вернуть\n",
    "Пустой массив []. Если решение есть, то необходимо представить решение —\n",
    "для каждого шага записывается номер передвигаемого на данном шаге\n",
    "элемента. "
   ]
  },
  {
   "cell_type": "code",
   "execution_count": 9,
   "id": "eleven-generic",
   "metadata": {
    "id": "eleven-generic"
   },
   "outputs": [
    {
     "name": "stdout",
     "output_type": "stream",
     "text": [
      "Решение есть, последовательность действий: [1, 2, 3, 4, 5, 6, 7, 8, 9, 10, 11, 12, 13, 15]\n"
     ]
    }
   ],
   "source": [
    "def is_solvable(arr):\n",
    "    # Находим количество инверсий\n",
    "    inversions = 0\n",
    "    n = len(arr)\n",
    "    \n",
    "    for i in range(n):\n",
    "        for j in range(i + 1, n):\n",
    "            if arr[i] != 0 and arr[j] != 0 and arr[i] > arr[j]:\n",
    "                inversions += 1\n",
    "\n",
    "    # Позиция пустого поля (0) на последнем ряду\n",
    "    empty_row = arr.index(0) // 4  # Для поля размером 4x4\n",
    "    \n",
    "    # Если сетка 4x4, то проверяем инверсии и положение пустого поля\n",
    "    if empty_row % 2 == 0:\n",
    "        return inversions % 2 == 0\n",
    "    else:\n",
    "        return inversions % 2 != 0\n",
    "\n",
    "def get_solution(arr):\n",
    "    # Проверка решаемости\n",
    "    if not is_solvable(arr):\n",
    "        return []\n",
    "\n",
    "    # Алгоритм поиска решения: используем жадный метод\n",
    "    target = sorted(arr)\n",
    "    result = []\n",
    "    \n",
    "    while arr != target:\n",
    "        # Находим первый элемент, который не на своем месте\n",
    "        for i in range(len(arr)):\n",
    "            if arr[i] != target[i] and arr[i] != 0:\n",
    "                # Находим его правильное место\n",
    "                correct_pos = target.index(arr[i])\n",
    "                arr[i], arr[correct_pos] = arr[correct_pos], arr[i]\n",
    "                result.append(arr[correct_pos])\n",
    "                break\n",
    "    \n",
    "    return result\n",
    "\n",
    "# Ввод массива чисел\n",
    "arr = list(map(int, input(\"Введите массив чисел (через пробел): \").split()))\n",
    "\n",
    "# Вывод решения\n",
    "solution = get_solution(arr)\n",
    "if solution:\n",
    "    print(f\"Решение есть, последовательность действий: {solution}\")\n",
    "else:\n",
    "    print(\"Решения нет.\")\n"
   ]
  },
  {
   "cell_type": "markdown",
   "id": "arbitrary-amazon",
   "metadata": {
    "id": "arbitrary-amazon"
   },
   "source": [
    "### Вывод"
   ]
  },
  {
   "cell_type": "markdown",
   "id": "71bc58bf",
   "metadata": {
    "id": "71bc58bf"
   },
   "source": []
  }
 ],
 "metadata": {
  "colab": {
   "provenance": []
  },
  "kernelspec": {
   "display_name": "Python 3",
   "language": "python",
   "name": "python3"
  },
  "language_info": {
   "codemirror_mode": {
    "name": "ipython",
    "version": 3
   },
   "file_extension": ".py",
   "mimetype": "text/x-python",
   "name": "python",
   "nbconvert_exporter": "python",
   "pygments_lexer": "ipython3",
   "version": "3.11.9"
  }
 },
 "nbformat": 4,
 "nbformat_minor": 5
}
