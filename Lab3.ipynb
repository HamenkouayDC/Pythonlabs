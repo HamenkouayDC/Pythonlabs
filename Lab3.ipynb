{
 "cells": [
  {
   "cell_type": "markdown",
   "metadata": {
    "id": "0z3KlfKDn4_K"
   },
   "source": [
    "# Лабораторная работа 3.\n",
    "# Сетевые алгоритмы. Динамические алгоритмы поиска путей.\n"
   ]
  },
  {
   "cell_type": "markdown",
   "metadata": {
    "id": "96Gi_LEvmSVH"
   },
   "source": [
    "## Выполнил студент группы БФИ2302 Рудаков М.В.\n"
   ]
  },
  {
   "cell_type": "markdown",
   "metadata": {
    "id": "GjdIp8aToKIe"
   },
   "source": [
    "### Задание\n",
    "\n",
    "1.  Реализовать алгоритм поиска кратчайшего расстояния между двумя вершинами ориентированного взвешенного графа в соответствии с вариантом.\n",
    "\n",
    "2.  Предусмотреть задание графа в виде матрицы смежности/инцидентности, читаемой из файла, либо графически с помощью пользовательского интерфейса.\n",
    "\n",
    "3.  Разработать графический интерфейс пользователя с визуализацией графа и отображением кратчайшего расстояния между задаваемыми пользователем вершинами.\n",
    "\n",
    "4. По результатам работы проанализировать временную сложность работы заданного алгоритма в зависимости от числа узлов и ребер графа.\n",
    "Данные представить в виде таблицы.\n",
    "\n"
   ]
  },
  {
   "cell_type": "markdown",
   "metadata": {
    "id": "LhhUXrAmotIA"
   },
   "source": [
    "### Алгоритмы:\n",
    "\n",
    "Алгоритм Флойда-Уоршелла| Алгоритм Дейкстры | Алгоритм Беллмана-Форда | Алгоритм Джонсона| Алгоритм Левита | Алгоритм Йена\n",
    "\n"
   ]
  },
  {
   "cell_type": "code",
   "execution_count": 10,
   "metadata": {
    "executionInfo": {
     "elapsed": 6977,
     "status": "ok",
     "timestamp": 1742279230167,
     "user": {
      "displayName": "Ngungui Mazembe",
      "userId": "16166709129145843835"
     },
     "user_tz": -180
    },
    "id": "xOqYQG24Sb3l"
   },
   "outputs": [],
   "source": [
    "import numpy as np\n",
    "import networkx as nx\n",
    "import matplotlib.pyplot as plt\n",
    "import pandas as pd\n",
    "import time\n",
    "import heapq\n",
    "from IPython.display import display\n"
   ]
  },
  {
   "cell_type": "code",
   "execution_count": 1,
   "metadata": {
    "executionInfo": {
     "elapsed": 62,
     "status": "ok",
     "timestamp": 1742279236337,
     "user": {
      "displayName": "Ngungui Mazembe",
      "userId": "16166709129145843835"
     },
     "user_tz": -180
    },
    "id": "cYZApIBzSdXw"
   },
   "outputs": [],
   "source": [
    "#Алгоритм Флойда-Уоршелла\n",
    "def floyd_warshall(adj_matrix):\n",
    "    num_nodes = len(adj_matrix)\n",
    "    dist = adj_matrix.copy()\n",
    "    for k in range(num_nodes):\n",
    "        for i in range(num_nodes):\n",
    "            for j in range(num_nodes):\n",
    "                if dist[i][k] and dist[k][j]:\n",
    "                    new_distance = dist[i][k] + dist[k][j]\n",
    "                    if dist[i][j] == 0 or new_distance < dist[i][j]:\n",
    "                        dist[i][j] = new_distance\n",
    "    return dist"
   ]
  },
  {
   "cell_type": "code",
   "execution_count": 2,
   "metadata": {
    "executionInfo": {
     "elapsed": 15,
     "status": "ok",
     "timestamp": 1742279273171,
     "user": {
      "displayName": "Ngungui Mazembe",
      "userId": "16166709129145843835"
     },
     "user_tz": -180
    },
    "id": "9T3Pkpo2Ski0"
   },
   "outputs": [],
   "source": [
    "#Алгоритм Дейкстры\n",
    "def dijkstra(adj_matrix, start):\n",
    "    num_nodes = len(adj_matrix)\n",
    "    distances = {node: float('inf') for node in range(num_nodes)}\n",
    "    distances[start] = 0\n",
    "    priority_queue = [(0, start)]\n",
    "    while priority_queue:\n",
    "        current_distance, current_node = heapq.heappop(priority_queue)\n",
    "        if current_distance > distances[current_node]:\n",
    "            continue\n",
    "        for neighbor in range(num_nodes):\n",
    "            weight = adj_matrix[current_node][neighbor]\n",
    "            if weight > 0:\n",
    "                distance = current_distance + weight\n",
    "                if distance < distances[neighbor]:\n",
    "                    distances[neighbor] = distance\n",
    "                    heapq.heappush(priority_queue, (distance, neighbor))\n",
    "    return distances"
   ]
  },
  {
   "cell_type": "code",
   "execution_count": 3,
   "metadata": {
    "executionInfo": {
     "elapsed": 47,
     "status": "ok",
     "timestamp": 1741863349598,
     "user": {
      "displayName": "Ngungui Mazembe",
      "userId": "16166709129145843835"
     },
     "user_tz": -180
    },
    "id": "b4rvV9RPSpQO"
   },
   "outputs": [],
   "source": [
    "#Алгоритм Беллмана-Форда\n",
    "def bellman_ford_fixed(adj_matrix, start):\n",
    "    num_nodes = len(adj_matrix)\n",
    "    distances = {node: float('inf') for node in range(num_nodes)}\n",
    "    distances[start] = 0\n",
    "    for _ in range(num_nodes - 1):\n",
    "        for u in range(num_nodes):\n",
    "            for v in range(num_nodes):\n",
    "                weight = adj_matrix[u][v]\n",
    "                if weight > 0 and distances[u] != float('inf') and distances[u] + weight < distances[v]:\n",
    "                    distances[v] = distances[u] + weight\n",
    "    return {k: (v if v != float('inf') else 0) for k, v in distances.items()}"
   ]
  },
  {
   "cell_type": "code",
   "execution_count": 4,
   "metadata": {
    "executionInfo": {
     "elapsed": 4,
     "status": "ok",
     "timestamp": 1742279270492,
     "user": {
      "displayName": "Ngungui Mazembe",
      "userId": "16166709129145843835"
     },
     "user_tz": -180
    },
    "id": "WzNw_UDNSxM6"
   },
   "outputs": [],
   "source": [
    "#Алгоритм Джонсона\n",
    "def johnson_fixed(adj_matrix):\n",
    "    num_nodes = len(adj_matrix)\n",
    "    new_matrix = np.zeros((num_nodes + 1, num_nodes + 1))\n",
    "    new_matrix[:num_nodes, :num_nodes] = adj_matrix\n",
    "    for i in range(num_nodes):\n",
    "        new_matrix[num_nodes, i] = 0\n",
    "    h = bellman_ford_fixed(new_matrix, num_nodes)\n",
    "    new_adj_matrix = adj_matrix.copy()\n",
    "    for u in range(num_nodes):\n",
    "        for v in range(num_nodes):\n",
    "            if new_adj_matrix[u, v] > 0 and u in h and v in h:\n",
    "                new_adj_matrix[u, v] += h[u] - h[v]\n",
    "    distances = np.zeros((num_nodes, num_nodes))\n",
    "    for u in range(num_nodes):\n",
    "        distances[u] = list(dijkstra(new_adj_matrix, u).values())\n",
    "    return distances"
   ]
  },
  {
   "cell_type": "code",
   "execution_count": 15,
   "metadata": {
    "executionInfo": {
     "elapsed": 8,
     "status": "ok",
     "timestamp": 1742279268665,
     "user": {
      "displayName": "Ngungui Mazembe",
      "userId": "16166709129145843835"
     },
     "user_tz": -180
    },
    "id": "fmk-bfW8S1Nk"
   },
   "outputs": [],
   "source": [
    "#Алгоритм Левита\n",
    "def levit(adj_matrix, start):\n",
    "    num_nodes = len(adj_matrix)\n",
    "    distances = {i: float('inf') for i in range(num_nodes)}\n",
    "    distances[start] = 0\n",
    "    main_queue = []\n",
    "    urgent_queue = []\n",
    "    main_queue.append(start)\n",
    "    while main_queue or urgent_queue:\n",
    "        if urgent_queue:\n",
    "            u = urgent_queue.pop(0)\n",
    "        else:\n",
    "            u = main_queue.pop(0)\n",
    "        for v in range(num_nodes):\n",
    "            weight = adj_matrix[u][v]\n",
    "            if weight > 0:\n",
    "                if distances[v] == float('inf'):\n",
    "                    distances[v] = distances[u] + weight\n",
    "                    main_queue.append(v)\n",
    "                elif distances[v] > distances[u] + weight:\n",
    "                    distances[v] = distances[u] + weight\n",
    "                    urgent_queue.append(v)\n",
    "    return distances"
   ]
  },
  {
   "cell_type": "code",
   "execution_count": 5,
   "metadata": {},
   "outputs": [],
   "source": [
    "#Алгоритм Йена\n",
    "import heapq\n",
    "\n",
    "def yen_k_shortest_paths(graph, start, end, k=3):\n",
    "    def dijkstra_modified(g, src, dst, forbidden_edges):\n",
    "        n = len(g)\n",
    "        dist = [float('inf')] * n\n",
    "        dist[src] = 0\n",
    "        prev = [-1] * n\n",
    "        heap = [(0, src)]\n",
    "        \n",
    "        while heap:\n",
    "            d, u = heapq.heappop(heap)\n",
    "            if u == dst:\n",
    "                break\n",
    "            if d > dist[u]:\n",
    "                continue\n",
    "            for v in range(n):\n",
    "                if g[u][v] > 0 and (u, v) not in forbidden_edges:\n",
    "                    if dist[v] > dist[u] + g[u][v]:\n",
    "                        dist[v] = dist[u] + g[u][v]\n",
    "                        prev[v] = u\n",
    "                        heapq.heappush(heap, (dist[v], v))\n",
    "        \n",
    "        if dist[dst] == float('inf'):\n",
    "            return None\n",
    "        path = []\n",
    "        u = dst\n",
    "        while u != -1:\n",
    "            path.append(u)\n",
    "            u = prev[u]\n",
    "        return path[::-1]\n",
    "\n",
    "    # Первый путь\n",
    "    A = [dijkstra_modified(graph, start, end, set())]\n",
    "    if not A[0]:\n",
    "        return []\n",
    "\n",
    "    B = []  # Куча для кандидатов\n",
    "\n",
    "    for _ in range(1, k):\n",
    "        for i in range(len(A[-1]) - 1):\n",
    "            spur_node = A[-1][i]\n",
    "            root_path = A[-1][:i+1]\n",
    "            \n",
    "            # Запрещаем рёбра из предыдущих путей\n",
    "            banned_edges = set()\n",
    "            for p in A:\n",
    "                if len(p) > i and p[:i+1] == root_path and i+1 < len(p):\n",
    "                    banned_edges.add((p[i], p[i+1]))\n",
    "            \n",
    "            spur_path = dijkstra_modified(graph, spur_node, end, banned_edges)\n",
    "            if spur_path:\n",
    "                full_path = root_path[:-1] + spur_path\n",
    "                cost = sum(graph[full_path[j]][full_path[j+1]] for j in range(len(full_path)-1))\n",
    "                heapq.heappush(B, (cost, full_path))\n",
    "        \n",
    "        if not B:\n",
    "            break\n",
    "        A.append(heapq.heappop(B)[1])\n",
    "\n",
    "    return A[:k]"
   ]
  },
  {
   "cell_type": "code",
   "execution_count": 6,
   "metadata": {
    "executionInfo": {
     "elapsed": 4,
     "status": "ok",
     "timestamp": 1742279265011,
     "user": {
      "displayName": "Ngungui Mazembe",
      "userId": "16166709129145843835"
     },
     "user_tz": -180
    },
    "id": "DNfb9xcLWRwY"
   },
   "outputs": [],
   "source": [
    "#Анализ производительности\n",
    "def analyze_final_corrected_algorithms(adj_matrix):\n",
    "    num_nodes = len(adj_matrix)\n",
    "    algorithms = {\n",
    "        'Флойда-Уоршелла': floyd_warshall,\n",
    "        'Дейкстры': lambda mat: dijkstra(mat, 0),\n",
    "        'Беллмана-Форда': lambda mat: bellman_ford_fixed(mat, 0),\n",
    "        'Джонсона': johnson_fixed,\n",
    "        'Левита': lambda mat: levit(mat, 0),\n",
    "        'Йена': lambda mat: yen_k_shortest_paths(mat, 0, len(mat), 3)\n",
    "    }\n",
    "    results = []\n",
    "    for algo_name, algo_func in algorithms.items():\n",
    "        start_time = time.perf_counter_ns()\n",
    "        elapsed_time = time.perf_counter_ns() - start_time\n",
    "        results.append((algo_name, num_nodes, elapsed_time))\n",
    "    df = pd.DataFrame(results, columns=['Алгоритм', 'Ноды', 'Время (ns)'])\n",
    "    return df"
   ]
  },
  {
   "cell_type": "code",
   "execution_count": 20,
   "metadata": {
    "executionInfo": {
     "elapsed": 43,
     "status": "ok",
     "timestamp": 1742281141514,
     "user": {
      "displayName": "Ngungui Mazembe",
      "userId": "16166709129145843835"
     },
     "user_tz": -180
    },
    "id": "B6z8NT-yZnwk"
   },
   "outputs": [
    {
     "name": "stdout",
     "output_type": "stream",
     "text": [
      "Test matrix\n",
      "[0, 1, -1]\n",
      "[0, 2, 4]\n",
      "[1, 2, 3]\n",
      "[1, 3, 2]\n",
      "[1, 4, 2]\n",
      "[3, 2, 5]\n",
      "[3, 1, 1]\n",
      "[4, 3, -3]\n"
     ]
    }
   ],
   "source": [
    "import numpy as np\n",
    "\n",
    "# Определение матрицы смежности тестов\n",
    "with open(\"graphLab3.txt\", \"r\") as file:\n",
    "    source = file.read().strip().split(\"\\n\")\n",
    "    test_adj_matrix = []\n",
    "    for line in source:\n",
    "        a = [int(x) for x in line.split(\" \")]\n",
    "        test_adj_matrix.append(a)\n",
    "\n",
    "showed_test_adj_matrix = test_adj_matrix  # backup для визуализации в pyvis\n",
    "\n",
    "print(\"Test matrix\")\n",
    "print(*test_adj_matrix, sep=\"\\n\", end=\"\\n\")\n",
    "\n",
    "test_adj_matrix = np.array(test_adj_matrix)  # Теперь ошибок не будет\n"
   ]
  },
  {
   "cell_type": "code",
   "execution_count": 26,
   "metadata": {
    "colab": {
     "base_uri": "https://localhost:8080/",
     "height": 158
    },
    "executionInfo": {
     "elapsed": 7,
     "status": "error",
     "timestamp": 1741863325327,
     "user": {
      "displayName": "Ngungui Mazembe",
      "userId": "16166709129145843835"
     },
     "user_tz": -180
    },
    "id": "9I3KmpFzWlxF",
    "outputId": "09125955-849a-4d29-a3a2-2903bed31452"
   },
   "outputs": [
    {
     "data": {
      "text/html": [
       "<div>\n",
       "<style scoped>\n",
       "    .dataframe tbody tr th:only-of-type {\n",
       "        vertical-align: middle;\n",
       "    }\n",
       "\n",
       "    .dataframe tbody tr th {\n",
       "        vertical-align: top;\n",
       "    }\n",
       "\n",
       "    .dataframe thead th {\n",
       "        text-align: right;\n",
       "    }\n",
       "</style>\n",
       "<table border=\"1\" class=\"dataframe\">\n",
       "  <thead>\n",
       "    <tr style=\"text-align: right;\">\n",
       "      <th></th>\n",
       "      <th>Алгоритм</th>\n",
       "      <th>Ноды</th>\n",
       "      <th>Время (ns)</th>\n",
       "    </tr>\n",
       "  </thead>\n",
       "  <tbody>\n",
       "    <tr>\n",
       "      <th>0</th>\n",
       "      <td>Флойда-Уоршелла</td>\n",
       "      <td>8</td>\n",
       "      <td>500</td>\n",
       "    </tr>\n",
       "    <tr>\n",
       "      <th>1</th>\n",
       "      <td>Дейкстры</td>\n",
       "      <td>8</td>\n",
       "      <td>300</td>\n",
       "    </tr>\n",
       "    <tr>\n",
       "      <th>2</th>\n",
       "      <td>Беллмана-Форда</td>\n",
       "      <td>8</td>\n",
       "      <td>100</td>\n",
       "    </tr>\n",
       "    <tr>\n",
       "      <th>3</th>\n",
       "      <td>Джонсона</td>\n",
       "      <td>8</td>\n",
       "      <td>100</td>\n",
       "    </tr>\n",
       "    <tr>\n",
       "      <th>4</th>\n",
       "      <td>Левита</td>\n",
       "      <td>8</td>\n",
       "      <td>100</td>\n",
       "    </tr>\n",
       "    <tr>\n",
       "      <th>5</th>\n",
       "      <td>Йена</td>\n",
       "      <td>8</td>\n",
       "      <td>100</td>\n",
       "    </tr>\n",
       "  </tbody>\n",
       "</table>\n",
       "</div>"
      ],
      "text/plain": [
       "          Алгоритм  Ноды  Время (ns)\n",
       "0  Флойда-Уоршелла     8         500\n",
       "1         Дейкстры     8         300\n",
       "2   Беллмана-Форда     8         100\n",
       "3         Джонсона     8         100\n",
       "4           Левита     8         100\n",
       "5             Йена     8         100"
      ]
     },
     "metadata": {},
     "output_type": "display_data"
    },
    {
     "name": "stdout",
     "output_type": "stream",
     "text": [
      "graph.html\n"
     ]
    },
    {
     "data": {
      "text/plain": [
       "0"
      ]
     },
     "execution_count": 26,
     "metadata": {},
     "output_type": "execute_result"
    }
   ],
   "source": [
    "import time\n",
    "import pandas as pd\n",
    "df_final_corrected_analysis = analyze_final_corrected_algorithms(test_adj_matrix)\n",
    "display(df_final_corrected_analysis)\n",
    "\n",
    "from pyvis import network as net\n",
    "import os\n",
    "\n",
    "g = net.Network(notebook=True, bgcolor=\"#FFFFFF\", cdn_resources=\"remote\")\n",
    "g.add_nodes(\n",
    "    list(range(len(showed_test_adj_matrix))), \n",
    "    title=[str(x) for x in range(len(showed_test_adj_matrix))],\n",
    "    label=[str(x) for x in range(len(showed_test_adj_matrix))],\n",
    "    color=[\"#171717\" for _ in range(len(showed_test_adj_matrix))]\n",
    ")\n",
    "\n",
    "for a, line in enumerate(showed_test_adj_matrix):\n",
    "    for b, dist in enumerate(line):\n",
    "        if a==b: continue\n",
    "        if dist: g.add_edge(a, b, weight=dist)\n",
    "\n",
    "g.show(\"graph.html\")\n",
    "os.system(\"graph.html\")\n"
   ]
  },
  {
   "cell_type": "markdown",
   "metadata": {
    "id": "Wggfn8l7nG72"
   },
   "source": [
    "### Выполнение:"
   ]
  },
  {
   "cell_type": "code",
   "execution_count": 24,
   "metadata": {
    "colab": {
     "base_uri": "https://localhost:8080/"
    },
    "executionInfo": {
     "elapsed": 4815,
     "status": "ok",
     "timestamp": 1742279249429,
     "user": {
      "displayName": "Ngungui Mazembe",
      "userId": "16166709129145843835"
     },
     "user_tz": -180
    },
    "id": "681a95mZnOSa",
    "outputId": "badd24f8-179e-4430-c609-0d0bad7f239d"
   },
   "outputs": [
    {
     "name": "stdout",
     "output_type": "stream",
     "text": [
      "Collecting pyvis\n",
      "  Downloading pyvis-0.3.2-py3-none-any.whl.metadata (1.7 kB)\n",
      "Requirement already satisfied: ipython>=5.3.0 in c:\\users\\rudak\\appdata\\local\\packages\\pythonsoftwarefoundation.python.3.11_qbz5n2kfra8p0\\localcache\\local-packages\\python311\\site-packages (from pyvis) (9.1.0)\n",
      "Collecting jinja2>=2.9.6 (from pyvis)\n",
      "  Downloading jinja2-3.1.6-py3-none-any.whl.metadata (2.9 kB)\n",
      "Collecting jsonpickle>=1.4.1 (from pyvis)\n",
      "  Downloading jsonpickle-4.0.5-py3-none-any.whl.metadata (8.2 kB)\n",
      "Requirement already satisfied: networkx>=1.11 in c:\\users\\rudak\\appdata\\local\\packages\\pythonsoftwarefoundation.python.3.11_qbz5n2kfra8p0\\localcache\\local-packages\\python311\\site-packages (from pyvis) (3.4.2)\n",
      "Requirement already satisfied: colorama in c:\\users\\rudak\\appdata\\local\\packages\\pythonsoftwarefoundation.python.3.11_qbz5n2kfra8p0\\localcache\\local-packages\\python311\\site-packages (from ipython>=5.3.0->pyvis) (0.4.6)\n",
      "Requirement already satisfied: decorator in c:\\users\\rudak\\appdata\\local\\packages\\pythonsoftwarefoundation.python.3.11_qbz5n2kfra8p0\\localcache\\local-packages\\python311\\site-packages (from ipython>=5.3.0->pyvis) (5.2.1)\n",
      "Requirement already satisfied: ipython-pygments-lexers in c:\\users\\rudak\\appdata\\local\\packages\\pythonsoftwarefoundation.python.3.11_qbz5n2kfra8p0\\localcache\\local-packages\\python311\\site-packages (from ipython>=5.3.0->pyvis) (1.1.1)\n",
      "Requirement already satisfied: jedi>=0.16 in c:\\users\\rudak\\appdata\\local\\packages\\pythonsoftwarefoundation.python.3.11_qbz5n2kfra8p0\\localcache\\local-packages\\python311\\site-packages (from ipython>=5.3.0->pyvis) (0.19.2)\n",
      "Requirement already satisfied: matplotlib-inline in c:\\users\\rudak\\appdata\\local\\packages\\pythonsoftwarefoundation.python.3.11_qbz5n2kfra8p0\\localcache\\local-packages\\python311\\site-packages (from ipython>=5.3.0->pyvis) (0.1.7)\n",
      "Requirement already satisfied: prompt_toolkit<3.1.0,>=3.0.41 in c:\\users\\rudak\\appdata\\local\\packages\\pythonsoftwarefoundation.python.3.11_qbz5n2kfra8p0\\localcache\\local-packages\\python311\\site-packages (from ipython>=5.3.0->pyvis) (3.0.50)\n",
      "Requirement already satisfied: pygments>=2.4.0 in c:\\users\\rudak\\appdata\\local\\packages\\pythonsoftwarefoundation.python.3.11_qbz5n2kfra8p0\\localcache\\local-packages\\python311\\site-packages (from ipython>=5.3.0->pyvis) (2.19.1)\n",
      "Requirement already satisfied: stack_data in c:\\users\\rudak\\appdata\\local\\packages\\pythonsoftwarefoundation.python.3.11_qbz5n2kfra8p0\\localcache\\local-packages\\python311\\site-packages (from ipython>=5.3.0->pyvis) (0.6.3)\n",
      "Requirement already satisfied: traitlets>=5.13.0 in c:\\users\\rudak\\appdata\\local\\packages\\pythonsoftwarefoundation.python.3.11_qbz5n2kfra8p0\\localcache\\local-packages\\python311\\site-packages (from ipython>=5.3.0->pyvis) (5.14.3)\n",
      "Requirement already satisfied: typing_extensions>=4.6 in c:\\users\\rudak\\appdata\\local\\packages\\pythonsoftwarefoundation.python.3.11_qbz5n2kfra8p0\\localcache\\local-packages\\python311\\site-packages (from ipython>=5.3.0->pyvis) (4.13.2)\n",
      "Collecting MarkupSafe>=2.0 (from jinja2>=2.9.6->pyvis)\n",
      "  Downloading MarkupSafe-3.0.2-cp311-cp311-win_amd64.whl.metadata (4.1 kB)\n",
      "Requirement already satisfied: parso<0.9.0,>=0.8.4 in c:\\users\\rudak\\appdata\\local\\packages\\pythonsoftwarefoundation.python.3.11_qbz5n2kfra8p0\\localcache\\local-packages\\python311\\site-packages (from jedi>=0.16->ipython>=5.3.0->pyvis) (0.8.4)\n",
      "Requirement already satisfied: wcwidth in c:\\users\\rudak\\appdata\\local\\packages\\pythonsoftwarefoundation.python.3.11_qbz5n2kfra8p0\\localcache\\local-packages\\python311\\site-packages (from prompt_toolkit<3.1.0,>=3.0.41->ipython>=5.3.0->pyvis) (0.2.13)\n",
      "Requirement already satisfied: executing>=1.2.0 in c:\\users\\rudak\\appdata\\local\\packages\\pythonsoftwarefoundation.python.3.11_qbz5n2kfra8p0\\localcache\\local-packages\\python311\\site-packages (from stack_data->ipython>=5.3.0->pyvis) (2.2.0)\n",
      "Requirement already satisfied: asttokens>=2.1.0 in c:\\users\\rudak\\appdata\\local\\packages\\pythonsoftwarefoundation.python.3.11_qbz5n2kfra8p0\\localcache\\local-packages\\python311\\site-packages (from stack_data->ipython>=5.3.0->pyvis) (3.0.0)\n",
      "Requirement already satisfied: pure-eval in c:\\users\\rudak\\appdata\\local\\packages\\pythonsoftwarefoundation.python.3.11_qbz5n2kfra8p0\\localcache\\local-packages\\python311\\site-packages (from stack_data->ipython>=5.3.0->pyvis) (0.2.3)\n",
      "Downloading pyvis-0.3.2-py3-none-any.whl (756 kB)\n",
      "   ---------------------------------------- 0.0/756.0 kB ? eta -:--:--\n",
      "   ---------------------------------------- 0.0/756.0 kB ? eta -:--:--\n",
      "   --- ------------------------------------ 61.4/756.0 kB ? eta -:--:--\n",
      "   --- ------------------------------------ 61.4/756.0 kB ? eta -:--:--\n",
      "   ----- -------------------------------- 112.6/756.0 kB 930.9 kB/s eta 0:00:01\n",
      "   ----- -------------------------------- 112.6/756.0 kB 930.9 kB/s eta 0:00:01\n",
      "   ------- ------------------------------ 143.4/756.0 kB 708.1 kB/s eta 0:00:01\n",
      "   ------- ------------------------------ 153.6/756.0 kB 573.4 kB/s eta 0:00:02\n",
      "   ------- ------------------------------ 153.6/756.0 kB 573.4 kB/s eta 0:00:02\n",
      "   -------- ----------------------------- 174.1/756.0 kB 523.5 kB/s eta 0:00:02\n",
      "   --------- ---------------------------- 194.6/756.0 kB 512.0 kB/s eta 0:00:02\n",
      "   --------- ---------------------------- 194.6/756.0 kB 512.0 kB/s eta 0:00:02\n",
      "   ----------- -------------------------- 225.3/756.0 kB 458.5 kB/s eta 0:00:02\n",
      "   ----------- -------------------------- 225.3/756.0 kB 458.5 kB/s eta 0:00:02\n",
      "   ----------- -------------------------- 225.3/756.0 kB 458.5 kB/s eta 0:00:02\n",
      "   ------------ ------------------------- 256.0/756.0 kB 402.9 kB/s eta 0:00:02\n",
      "   ------------ ------------------------- 256.0/756.0 kB 402.9 kB/s eta 0:00:02\n",
      "   ------------- ------------------------ 276.5/756.0 kB 387.0 kB/s eta 0:00:02\n",
      "   ------------- ------------------------ 276.5/756.0 kB 387.0 kB/s eta 0:00:02\n",
      "   -------------- ----------------------- 286.7/756.0 kB 360.9 kB/s eta 0:00:02\n",
      "   -------------- ----------------------- 286.7/756.0 kB 360.9 kB/s eta 0:00:02\n",
      "   --------------- ---------------------- 307.2/756.0 kB 345.3 kB/s eta 0:00:02\n",
      "   --------------- ---------------------- 307.2/756.0 kB 345.3 kB/s eta 0:00:02\n",
      "   --------------- ---------------------- 317.4/756.0 kB 322.4 kB/s eta 0:00:02\n",
      "   ---------------- --------------------- 337.9/756.0 kB 317.5 kB/s eta 0:00:02\n",
      "   ---------------- --------------------- 337.9/756.0 kB 317.5 kB/s eta 0:00:02\n",
      "   ------------------ ------------------- 358.4/756.0 kB 309.5 kB/s eta 0:00:02\n",
      "   ------------------ ------------------- 368.6/756.0 kB 305.8 kB/s eta 0:00:02\n",
      "   ------------------ ------------------- 368.6/756.0 kB 305.8 kB/s eta 0:00:02\n",
      "   ------------------ ------------------- 368.6/756.0 kB 305.8 kB/s eta 0:00:02\n",
      "   -------------------- ----------------- 399.4/756.0 kB 296.4 kB/s eta 0:00:02\n",
      "   -------------------- ----------------- 399.4/756.0 kB 296.4 kB/s eta 0:00:02\n",
      "   -------------------- ----------------- 409.6/756.0 kB 283.8 kB/s eta 0:00:02\n",
      "   -------------------- ----------------- 409.6/756.0 kB 283.8 kB/s eta 0:00:02\n",
      "   --------------------- ---------------- 430.1/756.0 kB 279.9 kB/s eta 0:00:02\n",
      "   --------------------- ---------------- 430.1/756.0 kB 279.9 kB/s eta 0:00:02\n",
      "   ---------------------- --------------- 450.6/756.0 kB 276.2 kB/s eta 0:00:02\n",
      "   ---------------------- --------------- 450.6/756.0 kB 276.2 kB/s eta 0:00:02\n",
      "   ----------------------- -------------- 460.8/756.0 kB 269.5 kB/s eta 0:00:02\n",
      "   ----------------------- -------------- 460.8/756.0 kB 269.5 kB/s eta 0:00:02\n",
      "   ------------------------ ------------- 481.3/756.0 kB 266.7 kB/s eta 0:00:02\n",
      "   ------------------------ ------------- 481.3/756.0 kB 266.7 kB/s eta 0:00:02\n",
      "   ------------------------ ------------- 491.5/756.0 kB 261.0 kB/s eta 0:00:02\n",
      "   ------------------------ ------------- 491.5/756.0 kB 261.0 kB/s eta 0:00:02\n",
      "   ------------------------- ------------ 512.0/756.0 kB 256.9 kB/s eta 0:00:01\n",
      "   ------------------------- ------------ 512.0/756.0 kB 256.9 kB/s eta 0:00:01\n",
      "   ------------------------- ------------ 512.0/756.0 kB 256.9 kB/s eta 0:00:01\n",
      "   -------------------------- ----------- 532.5/756.0 kB 251.3 kB/s eta 0:00:01\n",
      "   -------------------------- ----------- 532.5/756.0 kB 251.3 kB/s eta 0:00:01\n",
      "   -------------------------- ----------- 532.5/756.0 kB 251.3 kB/s eta 0:00:01\n",
      "   -------------------------- ----------- 532.5/756.0 kB 251.3 kB/s eta 0:00:01\n",
      "   -------------------------- ----------- 532.5/756.0 kB 251.3 kB/s eta 0:00:01\n",
      "   -------------------------- ----------- 532.5/756.0 kB 251.3 kB/s eta 0:00:01\n",
      "   --------------------------- ---------- 542.7/756.0 kB 225.6 kB/s eta 0:00:01\n",
      "   --------------------------- ---------- 542.7/756.0 kB 225.6 kB/s eta 0:00:01\n",
      "   --------------------------- ---------- 542.7/756.0 kB 225.6 kB/s eta 0:00:01\n",
      "   --------------------------- ---------- 542.7/756.0 kB 225.6 kB/s eta 0:00:01\n",
      "   --------------------------- ---------- 542.7/756.0 kB 225.6 kB/s eta 0:00:01\n",
      "   ---------------------------- --------- 563.2/756.0 kB 210.7 kB/s eta 0:00:01\n",
      "   ---------------------------- --------- 563.2/756.0 kB 210.7 kB/s eta 0:00:01\n",
      "   ---------------------------- --------- 563.2/756.0 kB 210.7 kB/s eta 0:00:01\n",
      "   ---------------------------- --------- 563.2/756.0 kB 210.7 kB/s eta 0:00:01\n",
      "   ---------------------------- --------- 563.2/756.0 kB 210.7 kB/s eta 0:00:01\n",
      "   ---------------------------- --------- 563.2/756.0 kB 210.7 kB/s eta 0:00:01\n",
      "   ---------------------------- --------- 573.4/756.0 kB 194.8 kB/s eta 0:00:01\n",
      "   ---------------------------- --------- 573.4/756.0 kB 194.8 kB/s eta 0:00:01\n",
      "   ---------------------------- --------- 573.4/756.0 kB 194.8 kB/s eta 0:00:01\n",
      "   ---------------------------- --------- 573.4/756.0 kB 194.8 kB/s eta 0:00:01\n",
      "   ---------------------------- --------- 573.4/756.0 kB 194.8 kB/s eta 0:00:01\n",
      "   ---------------------------- --------- 573.4/756.0 kB 194.8 kB/s eta 0:00:01\n",
      "   ---------------------------- --------- 573.4/756.0 kB 194.8 kB/s eta 0:00:01\n",
      "   ----------------------------- -------- 593.9/756.0 kB 183.1 kB/s eta 0:00:01\n",
      "   ----------------------------- -------- 593.9/756.0 kB 183.1 kB/s eta 0:00:01\n",
      "   ----------------------------- -------- 593.9/756.0 kB 183.1 kB/s eta 0:00:01\n",
      "   ----------------------------- -------- 593.9/756.0 kB 183.1 kB/s eta 0:00:01\n",
      "   ----------------------------- -------- 593.9/756.0 kB 183.1 kB/s eta 0:00:01\n",
      "   ------------------------------ ------- 614.4/756.0 kB 175.0 kB/s eta 0:00:01\n",
      "   ------------------------------ ------- 614.4/756.0 kB 175.0 kB/s eta 0:00:01\n",
      "   ------------------------------ ------- 614.4/756.0 kB 175.0 kB/s eta 0:00:01\n",
      "   ------------------------------ ------- 614.4/756.0 kB 175.0 kB/s eta 0:00:01\n",
      "   ------------------------------- ------ 624.6/756.0 kB 169.5 kB/s eta 0:00:01\n",
      "   ------------------------------- ------ 624.6/756.0 kB 169.5 kB/s eta 0:00:01\n",
      "   ------------------------------- ------ 624.6/756.0 kB 169.5 kB/s eta 0:00:01\n",
      "   -------------------------------- ----- 645.1/756.0 kB 167.9 kB/s eta 0:00:01\n",
      "   -------------------------------- ----- 645.1/756.0 kB 167.9 kB/s eta 0:00:01\n",
      "   -------------------------------- ----- 655.4/756.0 kB 166.5 kB/s eta 0:00:01\n",
      "   -------------------------------- ----- 655.4/756.0 kB 166.5 kB/s eta 0:00:01\n",
      "   -------------------------------- ----- 655.4/756.0 kB 166.5 kB/s eta 0:00:01\n",
      "   --------------------------------- ---- 675.8/756.0 kB 166.4 kB/s eta 0:00:01\n",
      "   --------------------------------- ---- 675.8/756.0 kB 166.4 kB/s eta 0:00:01\n",
      "   --------------------------------- ---- 675.8/756.0 kB 166.4 kB/s eta 0:00:01\n",
      "   ---------------------------------- --- 696.3/756.0 kB 165.7 kB/s eta 0:00:01\n",
      "   ---------------------------------- --- 696.3/756.0 kB 165.7 kB/s eta 0:00:01\n",
      "   ---------------------------------- --- 696.3/756.0 kB 165.7 kB/s eta 0:00:01\n",
      "   ----------------------------------- -- 706.6/756.0 kB 163.2 kB/s eta 0:00:01\n",
      "   ----------------------------------- -- 706.6/756.0 kB 163.2 kB/s eta 0:00:01\n",
      "   ----------------------------------- -- 706.6/756.0 kB 163.2 kB/s eta 0:00:01\n",
      "   ------------------------------------ - 727.0/756.0 kB 162.7 kB/s eta 0:00:01\n",
      "   ------------------------------------ - 727.0/756.0 kB 162.7 kB/s eta 0:00:01\n",
      "   -------------------------------------  737.3/756.0 kB 161.6 kB/s eta 0:00:01\n",
      "   -------------------------------------  747.5/756.0 kB 161.6 kB/s eta 0:00:01\n",
      "   -------------------------------------- 756.0/756.0 kB 162.3 kB/s eta 0:00:00\n",
      "Downloading jinja2-3.1.6-py3-none-any.whl (134 kB)\n",
      "   ---------------------------------------- 0.0/134.9 kB ? eta -:--:--\n",
      "   ---------------------------------------- 0.0/134.9 kB ? eta -:--:--\n",
      "   ---------------------------------------- 0.0/134.9 kB ? eta -:--:--\n",
      "   --- ------------------------------------ 10.2/134.9 kB ? eta -:--:--\n",
      "   -------- ------------------------------ 30.7/134.9 kB 262.6 kB/s eta 0:00:01\n",
      "   -------- ------------------------------ 30.7/134.9 kB 262.6 kB/s eta 0:00:01\n",
      "   -------- ------------------------------ 30.7/134.9 kB 262.6 kB/s eta 0:00:01\n",
      "   -------- ------------------------------ 30.7/134.9 kB 262.6 kB/s eta 0:00:01\n",
      "   ----------- --------------------------- 41.0/134.9 kB 130.7 kB/s eta 0:00:01\n",
      "   ----------- --------------------------- 41.0/134.9 kB 130.7 kB/s eta 0:00:01\n",
      "   ----------------- --------------------- 61.4/134.9 kB 148.8 kB/s eta 0:00:01\n",
      "   ----------------- --------------------- 61.4/134.9 kB 148.8 kB/s eta 0:00:01\n",
      "   ----------------- --------------------- 61.4/134.9 kB 148.8 kB/s eta 0:00:01\n",
      "   -------------------- ------------------ 71.7/134.9 kB 135.6 kB/s eta 0:00:01\n",
      "   -------------------- ------------------ 71.7/134.9 kB 135.6 kB/s eta 0:00:01\n",
      "   -------------------------- ------------ 92.2/134.9 kB 145.5 kB/s eta 0:00:01\n",
      "   -------------------------- ------------ 92.2/134.9 kB 145.5 kB/s eta 0:00:01\n",
      "   ------------------------------- ------ 112.6/134.9 kB 155.9 kB/s eta 0:00:01\n",
      "   ------------------------------- ------ 112.6/134.9 kB 155.9 kB/s eta 0:00:01\n",
      "   ---------------------------------- --- 122.9/134.9 kB 150.2 kB/s eta 0:00:01\n",
      "   ---------------------------------- --- 122.9/134.9 kB 150.2 kB/s eta 0:00:01\n",
      "   ---------------------------------- --- 122.9/134.9 kB 150.2 kB/s eta 0:00:01\n",
      "   ---------------------------------- --- 122.9/134.9 kB 150.2 kB/s eta 0:00:01\n",
      "   ---------------------------------- --- 122.9/134.9 kB 150.2 kB/s eta 0:00:01\n",
      "   ---------------------------------- --- 122.9/134.9 kB 150.2 kB/s eta 0:00:01\n",
      "   ---------------------------------- --- 122.9/134.9 kB 150.2 kB/s eta 0:00:01\n",
      "   -------------------------------------- 134.9/134.9 kB 113.9 kB/s eta 0:00:00\n",
      "Downloading jsonpickle-4.0.5-py3-none-any.whl (46 kB)\n",
      "   ---------------------------------------- 0.0/46.4 kB ? eta -:--:--\n",
      "   ---------------------------------------- 0.0/46.4 kB ? eta -:--:--\n",
      "   ---------------------------------------- 0.0/46.4 kB ? eta -:--:--\n",
      "   -------- ------------------------------- 10.2/46.4 kB ? eta -:--:--\n",
      "   -------- ------------------------------- 10.2/46.4 kB ? eta -:--:--\n",
      "   -------- ------------------------------- 10.2/46.4 kB ? eta -:--:--\n",
      "   -------------------------- ------------- 30.7/46.4 kB 130.4 kB/s eta 0:00:01\n",
      "   -------------------------- ------------- 30.7/46.4 kB 130.4 kB/s eta 0:00:01\n",
      "   -------------------------- ------------- 30.7/46.4 kB 130.4 kB/s eta 0:00:01\n",
      "   -------------------------- ------------- 30.7/46.4 kB 130.4 kB/s eta 0:00:01\n",
      "   ----------------------------------- ---- 41.0/46.4 kB 89.3 kB/s eta 0:00:01\n",
      "   ---------------------------------------- 46.4/46.4 kB 100.4 kB/s eta 0:00:00\n",
      "Downloading MarkupSafe-3.0.2-cp311-cp311-win_amd64.whl (15 kB)\n",
      "Installing collected packages: MarkupSafe, jsonpickle, jinja2, pyvis\n",
      "Successfully installed MarkupSafe-3.0.2 jinja2-3.1.6 jsonpickle-4.0.5 pyvis-0.3.2\n"
     ]
    },
    {
     "name": "stderr",
     "output_type": "stream",
     "text": [
      "\n",
      "[notice] A new release of pip is available: 24.0 -> 25.0.1\n",
      "[notice] To update, run: C:\\Users\\rudak\\AppData\\Local\\Microsoft\\WindowsApps\\PythonSoftwareFoundation.Python.3.11_qbz5n2kfra8p0\\python.exe -m pip install --upgrade pip\n"
     ]
    }
   ],
   "source": [
    "!pip install pyvis\n",
    "\n",
    "\n"
   ]
  },
  {
   "cell_type": "markdown",
   "metadata": {
    "id": "diOb-K7LnO5a"
   },
   "source": [
    "### Вывод"
   ]
  }
 ],
 "metadata": {
  "colab": {
   "provenance": [
    {
     "file_id": "1Ck-vM9D54Q-meeWYtZ5ydC9ufN0QbRUD",
     "timestamp": 1741816259320
    },
    {
     "file_id": "1PB29AfCQqtCPpQJrN1jpaKF1cw_5iEo0",
     "timestamp": 1679127006477
    }
   ]
  },
  "kernelspec": {
   "display_name": "Python 3",
   "language": "python",
   "name": "python3"
  },
  "language_info": {
   "codemirror_mode": {
    "name": "ipython",
    "version": 3
   },
   "file_extension": ".py",
   "mimetype": "text/x-python",
   "name": "python",
   "nbconvert_exporter": "python",
   "pygments_lexer": "ipython3",
   "version": "3.11.9"
  }
 },
 "nbformat": 4,
 "nbformat_minor": 0
}
