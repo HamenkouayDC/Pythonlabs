{
 "cells": [
  {
   "cell_type": "markdown",
   "id": "d9bc2454",
   "metadata": {},
   "source": [
    "# Лабораторная работа №4\n",
    "## Выполнил студент группы БФИ2302 Рудаков М.В.\n"
   ]
  },
  {
   "cell_type": "markdown",
   "id": "77fe58d4",
   "metadata": {},
   "source": [
    "Реализовать следующие структуры данных:\n",
    "  \n",
    "● <b> Стек (stack): </b>  \n",
    "Операции для стека:\n",
    "<i> инициализация, проверка на пустоту, добавление нового элемента в начало, извлечение элемента из начала;  </i>  \n",
    "  \n",
    "● <b> Дек (двусторонняя очередь, deque):  </b>  \n",
    "Операции для дека:\n",
    "<i> инициализация, проверка на пустоту, добавление нового элемента в начало, добавление нового элемента в конец, извлечение элемента из начала, извлечение элемента из конца. </i>  \n",
    "  \n",
    "<i> Разработать программу обработки данных, содержащихся в заранее подготовленном txt-файле, в соответствии с заданиями, применив указанную в задании структуру данных. Результат работы программы вывести на экран и сохранить в отдельном txt-файле. </i>"
   ]
  },
  {
   "cell_type": "markdown",
   "id": "8879c270",
   "metadata": {},
   "source": [
    "### Задание №1\n",
    "Отсортировать строки файла, содержащие названия книг, в алфавитном порядке с использованием двух деков."
   ]
  },
  {
   "cell_type": "code",
   "execution_count": 4,
   "id": "837a51ba",
   "metadata": {},
   "outputs": [],
   "source": [
    "from collections import deque\n",
    "\n",
    "def task_1(file_path, output_path):\n",
    "    with open(file_path, 'r') as file:\n",
    "        lines = file.readlines()\n",
    "    \n",
    "    deque_1 = deque()\n",
    "    deque_2 = deque()\n",
    "    \n",
    "    # Добавляем строки в первый дек\n",
    "    for line in lines:\n",
    "        deque_1.append(line.strip())\n",
    "    \n",
    "    # Переносим строки во второй дек, сортируя по алфавиту\n",
    "    while deque_1:\n",
    "        current = deque_1.popleft()\n",
    "        if not deque_2 or current >= deque_2[-1]:\n",
    "            deque_2.append(current)\n",
    "        else:\n",
    "            while deque_2 and current < deque_2[-1]:\n",
    "                deque_1.appendleft(deque_2.pop())\n",
    "            deque_2.append(current)\n",
    "    \n",
    "    # Выводим результат на экран\n",
    "    for line in deque_2:\n",
    "        print(line)\n",
    "    \n",
    "    # Записываем результат в файл\n",
    "    with open(output_path, 'w') as output_file:\n",
    "        for line in deque_2:\n",
    "            output_file.write(line + \"\\n\")\n"
   ]
  },
  {
   "cell_type": "markdown",
   "id": "2e9dd1cd",
   "metadata": {},
   "source": [
    "### Задание №2\n",
    "Дек содержит последовательность символов для шифровки сообщений. Дан текстовый файл, содержащий зашифрованное сообщение. Пользуясь деком, расшифровать текст.\n",
    "Известно, что при шифровке каждый символ сообщения заменялся следующим за ним в деке по часовой стрелке через один."
   ]
  },
  {
   "cell_type": "code",
   "execution_count": 5,
   "id": "40ec9eac",
   "metadata": {},
   "outputs": [],
   "source": [
    "from collections import deque\n",
    "\n",
    "def task_2(file_path, output_path):\n",
    "    with open(file_path, 'r') as file:\n",
    "        encrypted_message = file.read().strip()\n",
    "    \n",
    "    # Создаем дек, заполняем его всеми символами\n",
    "    deque_chars = deque(encrypted_message)\n",
    "    decrypted_message = \"\"\n",
    "    \n",
    "    for char in encrypted_message:\n",
    "        deque_chars.rotate(-2)  # Сдвигаем дек по часовой стрелке через один символ\n",
    "        decrypted_message += deque_chars[0]\n",
    "    \n",
    "    # Выводим расшифрованное сообщение\n",
    "    print(\"Decrypted Message:\", decrypted_message)\n",
    "    \n",
    "    # Записываем результат в файл\n",
    "    with open(output_path, 'w') as output_file:\n",
    "        output_file.write(decrypted_message)\n"
   ]
  },
  {
   "cell_type": "markdown",
   "id": "4d53c537",
   "metadata": {},
   "source": [
    "### Задание №3\n",
    "Даны три стержня и n дисков различного размера. Диски можно надевать на стержни, образуя из них башни. Перенести n дисков со стержня А на стержень С, сохранив их первоначальный порядок. При переносе дисков необходимо соблюдать следующие правила:\n",
    "- на каждом шаге со стержня на стержень переносить только один диск;\n",
    "- диск нельзя помещать на диск меньшего размера;\n",
    "- для промежуточного хранения можно использовать стержень В.\n",
    "Реализовать алгоритм, используя три стека вместо стержней А, В, С. Информация о дисках хранится в исходном файле."
   ]
  },
  {
   "cell_type": "code",
   "execution_count": null,
   "id": "37346bb7",
   "metadata": {},
   "outputs": [],
   "source": [
    "# Задание 3: Ханойские башни с использованием трех стеков\n",
    "def task_3(file_path, output_path):\n",
    "    with open(file_path, 'r') as file:\n",
    "        n = int(file.read().strip())\n",
    "    \n",
    "    def hanoi(n, A, B, C):\n",
    "        if n == 1:\n",
    "            print(f\"Move disk {n} from {A} to {C}\")\n",
    "            return\n",
    "        hanoi(n - 1, A, C, B)\n",
    "        print(f\"Move disk {n} from {A} to {C}\")\n",
    "        hanoi(n - 1, B, A, C)\n",
    "\n",
    "    hanoi(n, 'A', 'B', 'C')\n"
   ]
  },
  {
   "cell_type": "markdown",
   "id": "780ab70b",
   "metadata": {},
   "source": [
    "### Задание №4\n",
    "Дан текстовый файл с программой на алгоритмическом языке. За один просмотр файла проверить баланс круглых скобок в тексте, используя стек."
   ]
  },
  {
   "cell_type": "code",
   "execution_count": 6,
   "id": "9272fc35",
   "metadata": {},
   "outputs": [],
   "source": [
    "def task_4(file_path):\n",
    "    with open(file_path, 'r') as file:\n",
    "        text = file.read()\n",
    "    \n",
    "    stack = []\n",
    "    for char in text:\n",
    "        if char == '(':\n",
    "            stack.append(char)\n",
    "        elif char == ')':\n",
    "            if not stack:\n",
    "                print(\"Unbalanced parentheses\")\n",
    "                return\n",
    "            stack.pop()\n",
    "    \n",
    "    if not stack:\n",
    "        print(\"Balanced parentheses\")\n",
    "    else:\n",
    "        print(\"Unbalanced parentheses\")\n"
   ]
  },
  {
   "cell_type": "markdown",
   "id": "6de29567",
   "metadata": {},
   "source": [
    "### Задание №5\n",
    "Дан текстовый файл с программой на алгоритмическом языке. За один просмотр файла проверить баланс квадратных скобок в тексте, используя дек."
   ]
  },
  {
   "cell_type": "code",
   "execution_count": null,
   "id": "dbfb837c",
   "metadata": {},
   "outputs": [],
   "source": [
    "# Задание 5: Проверка баланса квадратных скобок с использованием дека\n",
    "def task_5(file_path):\n",
    "    with open(file_path, 'r') as file:\n",
    "        text = file.read()\n",
    "    \n",
    "    deque = deque()\n",
    "    for char in text:\n",
    "        if char == '[':\n",
    "            deque.append(char)\n",
    "        elif char == ']':\n",
    "            if not deque:\n",
    "                print(\"Unbalanced square brackets\")\n",
    "                return\n",
    "            deque.pop()\n",
    "    \n",
    "    if not deque:\n",
    "        print(\"Balanced square brackets\")\n",
    "    else:\n",
    "        print(\"Unbalanced square brackets\")\n"
   ]
  },
  {
   "cell_type": "markdown",
   "id": "edf4785d",
   "metadata": {},
   "source": [
    "### Задание №6\n",
    "Дан файл из символов. Используя стек, за один просмотр файла напечатать сначала все цифры, затем все буквы, и, наконец, все остальные символы, сохраняя исходный порядок в каждой группе символов."
   ]
  },
  {
   "cell_type": "code",
   "execution_count": null,
   "id": "8a782bc7",
   "metadata": {},
   "outputs": [],
   "source": [
    "# Задание 6: Вывод цифр, букв и остальных символов\n",
    "def task_6(file_path):\n",
    "    with open(file_path, 'r') as file:\n",
    "        text = file.read()\n",
    "    \n",
    "    digits_stack = []\n",
    "    letters_stack = []\n",
    "    other_stack = []\n",
    "    \n",
    "    for char in text:\n",
    "        if char.isdigit():\n",
    "            digits_stack.append(char)\n",
    "        elif char.isalpha():\n",
    "            letters_stack.append(char)\n",
    "        else:\n",
    "            other_stack.append(char)\n",
    "    \n",
    "    result = ''.join(digits_stack) + ''.join(letters_stack) + ''.join(other_stack)\n",
    "    print(result)\n"
   ]
  },
  {
   "cell_type": "markdown",
   "id": "133bf26e",
   "metadata": {},
   "source": [
    "### Задание №7\n",
    "Дан файл из целых чисел. Используя дек, за один просмотр файла напечатать сначала все отрицательные числа, затем все положительные числа, сохраняя исходный порядок в каждой группе."
   ]
  },
  {
   "cell_type": "code",
   "execution_count": null,
   "id": "b0e4d354",
   "metadata": {},
   "outputs": [],
   "source": [
    "# Задание 7: Разделение чисел на отрицательные и положительные с использованием дека\n",
    "def task_7(file_path):\n",
    "    with open(file_path, 'r') as file:\n",
    "        numbers = [int(x) for x in file.read().split()]\n",
    "    \n",
    "    negative_deque = deque()\n",
    "    positive_deque = deque()\n",
    "    \n",
    "    for number in numbers:\n",
    "        if number < 0:\n",
    "            negative_deque.append(number)\n",
    "        else:\n",
    "            positive_deque.append(number)\n",
    "    \n",
    "    result = list(negative_deque) + list(positive_deque)\n",
    "    print(result)\n"
   ]
  },
  {
   "cell_type": "markdown",
   "id": "b3c1119a",
   "metadata": {},
   "source": [
    "### Задание №8\n",
    "Дан текстовый файл. Используя стек, сформировать новый текстовый файл, содержащий строки исходного файла, записанные в обратном порядке: первая строка становится последней, вторая – предпоследней и т.д."
   ]
  },
  {
   "cell_type": "code",
   "execution_count": 2,
   "id": "4171da56",
   "metadata": {},
   "outputs": [],
   "source": [
    "# Задание 8: Переворачивание строк в файле с использованием стека\n",
    "def task_8(file_path, output_path):\n",
    "    with open(file_path, 'r') as file:\n",
    "        lines = file.readlines()\n",
    "    \n",
    "    stack = []\n",
    "    \n",
    "    for line in lines:\n",
    "        stack.append(line.strip())\n",
    "    \n",
    "    with open(output_path, 'w') as output_file:\n",
    "        while stack:\n",
    "            output_file.write(stack.pop() + \"\\n\")\n"
   ]
  }
 ],
 "metadata": {
  "kernelspec": {
   "display_name": "Python 3",
   "language": "python",
   "name": "python3"
  },
  "language_info": {
   "codemirror_mode": {
    "name": "ipython",
    "version": 3
   },
   "file_extension": ".py",
   "mimetype": "text/x-python",
   "name": "python",
   "nbconvert_exporter": "python",
   "pygments_lexer": "ipython3",
   "version": "3.11.9"
  }
 },
 "nbformat": 4,
 "nbformat_minor": 5
}
